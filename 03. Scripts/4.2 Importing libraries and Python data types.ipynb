{
 "cells": [
  {
   "cell_type": "markdown",
   "id": "65682e3e",
   "metadata": {},
   "source": [
    "# 01. Importing Libraries"
   ]
  },
  {
   "cell_type": "code",
   "execution_count": 2,
   "id": "4c9a20a1",
   "metadata": {},
   "outputs": [],
   "source": [
    "# Import libraries\n",
    "import pandas as pd\n",
    "import numpy as np\n",
    "import os"
   ]
  },
  {
   "cell_type": "code",
   "execution_count": 3,
   "id": "7c417c57",
   "metadata": {},
   "outputs": [],
   "source": [
    "x = 2"
   ]
  },
  {
   "cell_type": "code",
   "execution_count": 5,
   "id": "e73fd573",
   "metadata": {},
   "outputs": [
    {
     "data": {
      "text/plain": [
       "2"
      ]
     },
     "execution_count": 5,
     "metadata": {},
     "output_type": "execute_result"
    }
   ],
   "source": [
    "x"
   ]
  },
  {
   "cell_type": "code",
   "execution_count": 6,
   "id": "25c8cda7",
   "metadata": {},
   "outputs": [
    {
     "data": {
      "text/plain": [
       "int"
      ]
     },
     "execution_count": 6,
     "metadata": {},
     "output_type": "execute_result"
    }
   ],
   "source": [
    "type(x)"
   ]
  },
  {
   "cell_type": "code",
   "execution_count": 7,
   "id": "2f841601",
   "metadata": {},
   "outputs": [],
   "source": [
    "y = 5.678"
   ]
  },
  {
   "cell_type": "code",
   "execution_count": 8,
   "id": "5a61ccfe",
   "metadata": {},
   "outputs": [
    {
     "data": {
      "text/plain": [
       "float"
      ]
     },
     "execution_count": 8,
     "metadata": {},
     "output_type": "execute_result"
    }
   ],
   "source": [
    "type(y)"
   ]
  },
  {
   "cell_type": "code",
   "execution_count": 9,
   "id": "34fb8f65",
   "metadata": {},
   "outputs": [
    {
     "data": {
      "text/plain": [
       "7.678"
      ]
     },
     "execution_count": 9,
     "metadata": {},
     "output_type": "execute_result"
    }
   ],
   "source": [
    "x + y"
   ]
  },
  {
   "cell_type": "code",
   "execution_count": 10,
   "id": "fb774e15",
   "metadata": {},
   "outputs": [
    {
     "data": {
      "text/plain": [
       "False"
      ]
     },
     "execution_count": 10,
     "metadata": {},
     "output_type": "execute_result"
    }
   ],
   "source": [
    "x == y"
   ]
  },
  {
   "cell_type": "code",
   "execution_count": 11,
   "id": "032bd58b",
   "metadata": {},
   "outputs": [
    {
     "data": {
      "text/plain": [
       "bool"
      ]
     },
     "execution_count": 11,
     "metadata": {},
     "output_type": "execute_result"
    }
   ],
   "source": [
    "type(x == y)"
   ]
  },
  {
   "cell_type": "markdown",
   "id": "8917dad7",
   "metadata": {},
   "source": [
    "# 4.2 Exercise"
   ]
  },
  {
   "cell_type": "code",
   "execution_count": 1,
   "id": "44292577",
   "metadata": {},
   "outputs": [],
   "source": [
    "# Step 7: Adding or Subtracting\n",
    "a=30\n",
    "b=70"
   ]
  },
  {
   "cell_type": "code",
   "execution_count": 2,
   "id": "9cd77027",
   "metadata": {},
   "outputs": [
    {
     "data": {
      "text/plain": [
       "100"
      ]
     },
     "execution_count": 2,
     "metadata": {},
     "output_type": "execute_result"
    }
   ],
   "source": [
    "a+b"
   ]
  },
  {
   "cell_type": "code",
   "execution_count": 4,
   "id": "6f483063",
   "metadata": {},
   "outputs": [],
   "source": [
    "c=130"
   ]
  },
  {
   "cell_type": "code",
   "execution_count": 5,
   "id": "54b1e440",
   "metadata": {},
   "outputs": [
    {
     "data": {
      "text/plain": [
       "100"
      ]
     },
     "execution_count": 5,
     "metadata": {},
     "output_type": "execute_result"
    }
   ],
   "source": [
    "c-a"
   ]
  },
  {
   "cell_type": "code",
   "execution_count": 8,
   "id": "75edd28c",
   "metadata": {},
   "outputs": [],
   "source": [
    "d=25\n",
    "e=75"
   ]
  },
  {
   "cell_type": "code",
   "execution_count": 9,
   "id": "f6f518bc",
   "metadata": {},
   "outputs": [
    {
     "data": {
      "text/plain": [
       "100"
      ]
     },
     "execution_count": 9,
     "metadata": {},
     "output_type": "execute_result"
    }
   ],
   "source": [
    "d+e"
   ]
  },
  {
   "cell_type": "code",
   "execution_count": 10,
   "id": "bea300cd",
   "metadata": {},
   "outputs": [],
   "source": [
    "#Step 8: 2 floating \n",
    "g=25.55\n",
    "h=5.55"
   ]
  },
  {
   "cell_type": "code",
   "execution_count": 11,
   "id": "4aab1eb8",
   "metadata": {},
   "outputs": [
    {
     "data": {
      "text/plain": [
       "4.603603603603604"
      ]
     },
     "execution_count": 11,
     "metadata": {},
     "output_type": "execute_result"
    }
   ],
   "source": [
    "g/h"
   ]
  },
  {
   "cell_type": "code",
   "execution_count": 14,
   "id": "fd6eb7fc",
   "metadata": {},
   "outputs": [],
   "source": [
    "#Step 9: Short Word\n",
    "i= \"mis\"\n",
    "j=\"interpret\""
   ]
  },
  {
   "cell_type": "code",
   "execution_count": 15,
   "id": "138bad64",
   "metadata": {},
   "outputs": [
    {
     "data": {
      "text/plain": [
       "'misinterpret'"
      ]
     },
     "execution_count": 15,
     "metadata": {},
     "output_type": "execute_result"
    }
   ],
   "source": [
    "i+j"
   ]
  },
  {
   "cell_type": "code",
   "execution_count": 16,
   "id": "717dfabb",
   "metadata": {},
   "outputs": [],
   "source": [
    "#Step 10: Short sentences\n",
    "k=\"Hi,\"\n",
    "l=\"My name is Ugochi\""
   ]
  },
  {
   "cell_type": "code",
   "execution_count": 17,
   "id": "ae77046a",
   "metadata": {},
   "outputs": [
    {
     "data": {
      "text/plain": [
       "'Hi,My name is Ugochi'"
      ]
     },
     "execution_count": 17,
     "metadata": {},
     "output_type": "execute_result"
    }
   ],
   "source": [
    "k+l"
   ]
  },
  {
   "cell_type": "code",
   "execution_count": 18,
   "id": "08af025a",
   "metadata": {},
   "outputs": [],
   "source": [
    "m= \"Goodmorning,\"\n",
    "n=\"its nice outside today\""
   ]
  },
  {
   "cell_type": "code",
   "execution_count": 19,
   "id": "1b98532d",
   "metadata": {},
   "outputs": [
    {
     "data": {
      "text/plain": [
       "'Goodmorning,its nice outside today'"
      ]
     },
     "execution_count": 19,
     "metadata": {},
     "output_type": "execute_result"
    }
   ],
   "source": [
    "m+n"
   ]
  },
  {
   "cell_type": "code",
   "execution_count": 20,
   "id": "926c265d",
   "metadata": {},
   "outputs": [
    {
     "data": {
      "text/plain": [
       "'misinterpretmisinterpretmisinterpretmisinterpretmisinterpretmisinterpretmisinterpretmisinterpretmisinterpretmisinterpretmisinterpretmisinterpretmisinterpretmisinterpretmisinterpretmisinterpretmisinterpretmisinterpretmisinterpretmisinterpretmisinterpretmisinterpretmisinterpretmisinterpretmisinterpretmisinterpretmisinterpretmisinterpretmisinterpretmisinterpretmisinterpretmisinterpretmisinterpretmisinterpretmisinterpretmisinterpretmisinterpretmisinterpretmisinterpretmisinterpretmisinterpretmisinterpretmisinterpretmisinterpretmisinterpretmisinterpretmisinterpretmisinterpretmisinterpretmisinterpretmisinterpretmisinterpretmisinterpretmisinterpretmisinterpretmisinterpretmisinterpretmisinterpretmisinterpretmisinterpretmisinterpretmisinterpretmisinterpretmisinterpretmisinterpretmisinterpretmisinterpretmisinterpretmisinterpretmisinterpretmisinterpretmisinterpretmisinterpretmisinterpretmisinterpretmisinterpretmisinterpretmisinterpretmisinterpretmisinterpretmisinterpretmisinterpretmisinterpretmisinterpretmisinterpretmisinterpretmisinterpretmisinterpretmisinterpretmisinterpretmisinterpretmisinterpretmisinterpretmisinterpretmisinterpretmisinterpretmisinterpretmisinterpretmisinterpretmisinterpret'"
      ]
     },
     "execution_count": 20,
     "metadata": {},
     "output_type": "execute_result"
    }
   ],
   "source": [
    "(i+j)*100"
   ]
  },
  {
   "cell_type": "code",
   "execution_count": null,
   "id": "58f7e816",
   "metadata": {},
   "outputs": [],
   "source": []
  }
 ],
 "metadata": {
  "kernelspec": {
   "display_name": "Python 3 (ipykernel)",
   "language": "python",
   "name": "python3"
  },
  "language_info": {
   "codemirror_mode": {
    "name": "ipython",
    "version": 3
   },
   "file_extension": ".py",
   "mimetype": "text/x-python",
   "name": "python",
   "nbconvert_exporter": "python",
   "pygments_lexer": "ipython3",
   "version": "3.10.9"
  }
 },
 "nbformat": 4,
 "nbformat_minor": 5
}
