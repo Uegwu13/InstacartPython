{
 "cells": [
  {
   "cell_type": "code",
   "execution_count": 1,
   "id": "5114556f",
   "metadata": {},
   "outputs": [],
   "source": [
    "# Importing Libraries\n",
    "import pandas as pd\n",
    "import numpy as np\n",
    "import os"
   ]
  },
  {
   "cell_type": "code",
   "execution_count": null,
   "id": "45a0e923",
   "metadata": {},
   "outputs": [],
   "source": []
  },
  {
   "cell_type": "code",
   "execution_count": 2,
   "id": "8e2b9b34",
   "metadata": {},
   "outputs": [],
   "source": [
    "# Creating path\n",
    "path = r'C:\\Users\\13472\\Documents\\05-2023 Instacart Basket Analysis- UE'"
   ]
  },
  {
   "cell_type": "markdown",
   "id": "788b48e3",
   "metadata": {},
   "source": [
    "# Step 3"
   ]
  },
  {
   "cell_type": "code",
   "execution_count": 3,
   "id": "6aff27d9",
   "metadata": {},
   "outputs": [],
   "source": [
    "# Importing analysis libraries\n",
    "df_cust = pd.read_csv(os.path.join(path, '02. Data', 'Original Data', 'customers.csv'))"
   ]
  },
  {
   "cell_type": "code",
   "execution_count": 4,
   "id": "d15b2401",
   "metadata": {},
   "outputs": [
    {
     "data": {
      "text/html": [
       "<div>\n",
       "<style scoped>\n",
       "    .dataframe tbody tr th:only-of-type {\n",
       "        vertical-align: middle;\n",
       "    }\n",
       "\n",
       "    .dataframe tbody tr th {\n",
       "        vertical-align: top;\n",
       "    }\n",
       "\n",
       "    .dataframe thead th {\n",
       "        text-align: right;\n",
       "    }\n",
       "</style>\n",
       "<table border=\"1\" class=\"dataframe\">\n",
       "  <thead>\n",
       "    <tr style=\"text-align: right;\">\n",
       "      <th></th>\n",
       "      <th>user_id</th>\n",
       "      <th>First Name</th>\n",
       "      <th>Surnam</th>\n",
       "      <th>Gender</th>\n",
       "      <th>STATE</th>\n",
       "      <th>Age</th>\n",
       "      <th>date_joined</th>\n",
       "      <th>n_dependants</th>\n",
       "      <th>fam_status</th>\n",
       "      <th>income</th>\n",
       "    </tr>\n",
       "  </thead>\n",
       "  <tbody>\n",
       "    <tr>\n",
       "      <th>0</th>\n",
       "      <td>26711</td>\n",
       "      <td>Deborah</td>\n",
       "      <td>Esquivel</td>\n",
       "      <td>Female</td>\n",
       "      <td>Missouri</td>\n",
       "      <td>48</td>\n",
       "      <td>1/1/2017</td>\n",
       "      <td>3</td>\n",
       "      <td>married</td>\n",
       "      <td>165665</td>\n",
       "    </tr>\n",
       "    <tr>\n",
       "      <th>1</th>\n",
       "      <td>33890</td>\n",
       "      <td>Patricia</td>\n",
       "      <td>Hart</td>\n",
       "      <td>Female</td>\n",
       "      <td>New Mexico</td>\n",
       "      <td>36</td>\n",
       "      <td>1/1/2017</td>\n",
       "      <td>0</td>\n",
       "      <td>single</td>\n",
       "      <td>59285</td>\n",
       "    </tr>\n",
       "    <tr>\n",
       "      <th>2</th>\n",
       "      <td>65803</td>\n",
       "      <td>Kenneth</td>\n",
       "      <td>Farley</td>\n",
       "      <td>Male</td>\n",
       "      <td>Idaho</td>\n",
       "      <td>35</td>\n",
       "      <td>1/1/2017</td>\n",
       "      <td>2</td>\n",
       "      <td>married</td>\n",
       "      <td>99568</td>\n",
       "    </tr>\n",
       "    <tr>\n",
       "      <th>3</th>\n",
       "      <td>125935</td>\n",
       "      <td>Michelle</td>\n",
       "      <td>Hicks</td>\n",
       "      <td>Female</td>\n",
       "      <td>Iowa</td>\n",
       "      <td>40</td>\n",
       "      <td>1/1/2017</td>\n",
       "      <td>0</td>\n",
       "      <td>single</td>\n",
       "      <td>42049</td>\n",
       "    </tr>\n",
       "    <tr>\n",
       "      <th>4</th>\n",
       "      <td>130797</td>\n",
       "      <td>Ann</td>\n",
       "      <td>Gilmore</td>\n",
       "      <td>Female</td>\n",
       "      <td>Maryland</td>\n",
       "      <td>26</td>\n",
       "      <td>1/1/2017</td>\n",
       "      <td>1</td>\n",
       "      <td>married</td>\n",
       "      <td>40374</td>\n",
       "    </tr>\n",
       "  </tbody>\n",
       "</table>\n",
       "</div>"
      ],
      "text/plain": [
       "   user_id First Name    Surnam  Gender       STATE  Age date_joined  \\\n",
       "0    26711    Deborah  Esquivel  Female    Missouri   48    1/1/2017   \n",
       "1    33890   Patricia      Hart  Female  New Mexico   36    1/1/2017   \n",
       "2    65803    Kenneth    Farley    Male       Idaho   35    1/1/2017   \n",
       "3   125935   Michelle     Hicks  Female        Iowa   40    1/1/2017   \n",
       "4   130797        Ann   Gilmore  Female    Maryland   26    1/1/2017   \n",
       "\n",
       "   n_dependants fam_status  income  \n",
       "0             3    married  165665  \n",
       "1             0     single   59285  \n",
       "2             2    married   99568  \n",
       "3             0     single   42049  \n",
       "4             1    married   40374  "
      ]
     },
     "execution_count": 4,
     "metadata": {},
     "output_type": "execute_result"
    }
   ],
   "source": [
    "df_cust.head()"
   ]
  },
  {
   "cell_type": "code",
   "execution_count": 5,
   "id": "7aedda9c",
   "metadata": {},
   "outputs": [
    {
     "data": {
      "text/plain": [
       "(206209, 10)"
      ]
     },
     "execution_count": 5,
     "metadata": {},
     "output_type": "execute_result"
    }
   ],
   "source": [
    "df_cust.shape"
   ]
  },
  {
   "cell_type": "markdown",
   "id": "c8087a64",
   "metadata": {},
   "source": [
    "# Step 4"
   ]
  },
  {
   "cell_type": "code",
   "execution_count": 6,
   "id": "3d7908ce",
   "metadata": {},
   "outputs": [],
   "source": [
    "# Dropping names within df\n",
    "df_cust = df_cust.drop(columns = ['First Name','Surnam'])"
   ]
  },
  {
   "cell_type": "code",
   "execution_count": 7,
   "id": "d1af874a",
   "metadata": {},
   "outputs": [
    {
     "data": {
      "text/html": [
       "<div>\n",
       "<style scoped>\n",
       "    .dataframe tbody tr th:only-of-type {\n",
       "        vertical-align: middle;\n",
       "    }\n",
       "\n",
       "    .dataframe tbody tr th {\n",
       "        vertical-align: top;\n",
       "    }\n",
       "\n",
       "    .dataframe thead th {\n",
       "        text-align: right;\n",
       "    }\n",
       "</style>\n",
       "<table border=\"1\" class=\"dataframe\">\n",
       "  <thead>\n",
       "    <tr style=\"text-align: right;\">\n",
       "      <th></th>\n",
       "      <th>user_id</th>\n",
       "      <th>Gender</th>\n",
       "      <th>STATE</th>\n",
       "      <th>Age</th>\n",
       "      <th>date_joined</th>\n",
       "      <th>n_dependants</th>\n",
       "      <th>fam_status</th>\n",
       "      <th>income</th>\n",
       "    </tr>\n",
       "  </thead>\n",
       "  <tbody>\n",
       "    <tr>\n",
       "      <th>0</th>\n",
       "      <td>26711</td>\n",
       "      <td>Female</td>\n",
       "      <td>Missouri</td>\n",
       "      <td>48</td>\n",
       "      <td>1/1/2017</td>\n",
       "      <td>3</td>\n",
       "      <td>married</td>\n",
       "      <td>165665</td>\n",
       "    </tr>\n",
       "    <tr>\n",
       "      <th>1</th>\n",
       "      <td>33890</td>\n",
       "      <td>Female</td>\n",
       "      <td>New Mexico</td>\n",
       "      <td>36</td>\n",
       "      <td>1/1/2017</td>\n",
       "      <td>0</td>\n",
       "      <td>single</td>\n",
       "      <td>59285</td>\n",
       "    </tr>\n",
       "    <tr>\n",
       "      <th>2</th>\n",
       "      <td>65803</td>\n",
       "      <td>Male</td>\n",
       "      <td>Idaho</td>\n",
       "      <td>35</td>\n",
       "      <td>1/1/2017</td>\n",
       "      <td>2</td>\n",
       "      <td>married</td>\n",
       "      <td>99568</td>\n",
       "    </tr>\n",
       "    <tr>\n",
       "      <th>3</th>\n",
       "      <td>125935</td>\n",
       "      <td>Female</td>\n",
       "      <td>Iowa</td>\n",
       "      <td>40</td>\n",
       "      <td>1/1/2017</td>\n",
       "      <td>0</td>\n",
       "      <td>single</td>\n",
       "      <td>42049</td>\n",
       "    </tr>\n",
       "    <tr>\n",
       "      <th>4</th>\n",
       "      <td>130797</td>\n",
       "      <td>Female</td>\n",
       "      <td>Maryland</td>\n",
       "      <td>26</td>\n",
       "      <td>1/1/2017</td>\n",
       "      <td>1</td>\n",
       "      <td>married</td>\n",
       "      <td>40374</td>\n",
       "    </tr>\n",
       "  </tbody>\n",
       "</table>\n",
       "</div>"
      ],
      "text/plain": [
       "   user_id  Gender       STATE  Age date_joined  n_dependants fam_status  \\\n",
       "0    26711  Female    Missouri   48    1/1/2017             3    married   \n",
       "1    33890  Female  New Mexico   36    1/1/2017             0     single   \n",
       "2    65803    Male       Idaho   35    1/1/2017             2    married   \n",
       "3   125935  Female        Iowa   40    1/1/2017             0     single   \n",
       "4   130797  Female    Maryland   26    1/1/2017             1    married   \n",
       "\n",
       "   income  \n",
       "0  165665  \n",
       "1   59285  \n",
       "2   99568  \n",
       "3   42049  \n",
       "4   40374  "
      ]
     },
     "execution_count": 7,
     "metadata": {},
     "output_type": "execute_result"
    }
   ],
   "source": [
    "df_cust.head()"
   ]
  },
  {
   "cell_type": "code",
   "execution_count": 8,
   "id": "b6b441ce",
   "metadata": {},
   "outputs": [],
   "source": [
    "# Renaming Columns\n",
    "df_cust.rename(columns = {'Gender' : 'gender', 'STATE' : 'state', 'Age' : 'age', 'n_dependants' : 'number_of_dependants', 'fam_status' : 'family_status'}, inplace = True)"
   ]
  },
  {
   "cell_type": "code",
   "execution_count": 9,
   "id": "e102705c",
   "metadata": {},
   "outputs": [
    {
     "data": {
      "text/html": [
       "<div>\n",
       "<style scoped>\n",
       "    .dataframe tbody tr th:only-of-type {\n",
       "        vertical-align: middle;\n",
       "    }\n",
       "\n",
       "    .dataframe tbody tr th {\n",
       "        vertical-align: top;\n",
       "    }\n",
       "\n",
       "    .dataframe thead th {\n",
       "        text-align: right;\n",
       "    }\n",
       "</style>\n",
       "<table border=\"1\" class=\"dataframe\">\n",
       "  <thead>\n",
       "    <tr style=\"text-align: right;\">\n",
       "      <th></th>\n",
       "      <th>user_id</th>\n",
       "      <th>gender</th>\n",
       "      <th>state</th>\n",
       "      <th>age</th>\n",
       "      <th>date_joined</th>\n",
       "      <th>number_of_dependants</th>\n",
       "      <th>family_status</th>\n",
       "      <th>income</th>\n",
       "    </tr>\n",
       "  </thead>\n",
       "  <tbody>\n",
       "    <tr>\n",
       "      <th>0</th>\n",
       "      <td>26711</td>\n",
       "      <td>Female</td>\n",
       "      <td>Missouri</td>\n",
       "      <td>48</td>\n",
       "      <td>1/1/2017</td>\n",
       "      <td>3</td>\n",
       "      <td>married</td>\n",
       "      <td>165665</td>\n",
       "    </tr>\n",
       "    <tr>\n",
       "      <th>1</th>\n",
       "      <td>33890</td>\n",
       "      <td>Female</td>\n",
       "      <td>New Mexico</td>\n",
       "      <td>36</td>\n",
       "      <td>1/1/2017</td>\n",
       "      <td>0</td>\n",
       "      <td>single</td>\n",
       "      <td>59285</td>\n",
       "    </tr>\n",
       "    <tr>\n",
       "      <th>2</th>\n",
       "      <td>65803</td>\n",
       "      <td>Male</td>\n",
       "      <td>Idaho</td>\n",
       "      <td>35</td>\n",
       "      <td>1/1/2017</td>\n",
       "      <td>2</td>\n",
       "      <td>married</td>\n",
       "      <td>99568</td>\n",
       "    </tr>\n",
       "    <tr>\n",
       "      <th>3</th>\n",
       "      <td>125935</td>\n",
       "      <td>Female</td>\n",
       "      <td>Iowa</td>\n",
       "      <td>40</td>\n",
       "      <td>1/1/2017</td>\n",
       "      <td>0</td>\n",
       "      <td>single</td>\n",
       "      <td>42049</td>\n",
       "    </tr>\n",
       "    <tr>\n",
       "      <th>4</th>\n",
       "      <td>130797</td>\n",
       "      <td>Female</td>\n",
       "      <td>Maryland</td>\n",
       "      <td>26</td>\n",
       "      <td>1/1/2017</td>\n",
       "      <td>1</td>\n",
       "      <td>married</td>\n",
       "      <td>40374</td>\n",
       "    </tr>\n",
       "  </tbody>\n",
       "</table>\n",
       "</div>"
      ],
      "text/plain": [
       "   user_id  gender       state  age date_joined  number_of_dependants  \\\n",
       "0    26711  Female    Missouri   48    1/1/2017                     3   \n",
       "1    33890  Female  New Mexico   36    1/1/2017                     0   \n",
       "2    65803    Male       Idaho   35    1/1/2017                     2   \n",
       "3   125935  Female        Iowa   40    1/1/2017                     0   \n",
       "4   130797  Female    Maryland   26    1/1/2017                     1   \n",
       "\n",
       "  family_status  income  \n",
       "0       married  165665  \n",
       "1        single   59285  \n",
       "2       married   99568  \n",
       "3        single   42049  \n",
       "4       married   40374  "
      ]
     },
     "execution_count": 9,
     "metadata": {},
     "output_type": "execute_result"
    }
   ],
   "source": [
    "df_cust.head()"
   ]
  },
  {
   "cell_type": "code",
   "execution_count": 10,
   "id": "c4e183d2",
   "metadata": {},
   "outputs": [
    {
     "name": "stdout",
     "output_type": "stream",
     "text": [
      "<class 'pandas.core.frame.DataFrame'>\n",
      "RangeIndex: 206209 entries, 0 to 206208\n",
      "Data columns (total 8 columns):\n",
      " #   Column                Non-Null Count   Dtype \n",
      "---  ------                --------------   ----- \n",
      " 0   user_id               206209 non-null  int64 \n",
      " 1   gender                206209 non-null  object\n",
      " 2   state                 206209 non-null  object\n",
      " 3   age                   206209 non-null  int64 \n",
      " 4   date_joined           206209 non-null  object\n",
      " 5   number_of_dependants  206209 non-null  int64 \n",
      " 6   family_status         206209 non-null  object\n",
      " 7   income                206209 non-null  int64 \n",
      "dtypes: int64(4), object(4)\n",
      "memory usage: 12.6+ MB\n"
     ]
    }
   ],
   "source": [
    "#Variable types\n",
    "df_cust.info()"
   ]
  },
  {
   "cell_type": "code",
   "execution_count": 11,
   "id": "8ca411fa",
   "metadata": {},
   "outputs": [
    {
     "data": {
      "text/plain": [
       "user_id                  int64\n",
       "gender                  object\n",
       "state                   object\n",
       "age                      int64\n",
       "date_joined             object\n",
       "number_of_dependants     int64\n",
       "family_status           object\n",
       "income                   int64\n",
       "dtype: object"
      ]
     },
     "execution_count": 11,
     "metadata": {},
     "output_type": "execute_result"
    }
   ],
   "source": [
    "df_cust.dtypes"
   ]
  },
  {
   "cell_type": "code",
   "execution_count": 12,
   "id": "53ce8dd1",
   "metadata": {},
   "outputs": [],
   "source": [
    "#Changing user id to string\n",
    "df_cust['user_id'] = df_cust['user_id'].astype('str')"
   ]
  },
  {
   "cell_type": "code",
   "execution_count": 13,
   "id": "51f15eb3",
   "metadata": {},
   "outputs": [],
   "source": [
    "# Importing orders_products_agg df\n",
    "\n",
    "ords_prods_agg = pd.read_pickle(os.path.join(path, '02. Data', 'Prepared Data', 'orders_products_agg.pkl'))"
   ]
  },
  {
   "cell_type": "code",
   "execution_count": 14,
   "id": "5780fa95",
   "metadata": {},
   "outputs": [
    {
     "name": "stdout",
     "output_type": "stream",
     "text": [
      "<class 'pandas.core.frame.DataFrame'>\n",
      "Int64Index: 32404859 entries, 0 to 32404858\n",
      "Data columns (total 25 columns):\n",
      " #   Column                         Dtype   \n",
      "---  ------                         -----   \n",
      " 0   Unnamed: 0.1                   int64   \n",
      " 1   order_id                       int64   \n",
      " 2   user_id                        int64   \n",
      " 3   order_number                   int64   \n",
      " 4   orders_day_of_week             int64   \n",
      " 5   orders_hod                     int64   \n",
      " 6   days_since_prior_order         float64 \n",
      " 7   product_id                     int64   \n",
      " 8   add_to_cart_order              int64   \n",
      " 9   reordered                      int64   \n",
      " 10  product_name                   object  \n",
      " 11  aisle_id                       int64   \n",
      " 12  department_id                  int64   \n",
      " 13  prices                         float64 \n",
      " 14  _merge                         category\n",
      " 15  price_range_loc                object  \n",
      " 16  busiest_day                    object  \n",
      " 17  busiest_days                   object  \n",
      " 18  busiest_period_of_day          object  \n",
      " 19  max_order                      int64   \n",
      " 20  loyalty_flag                   object  \n",
      " 21  avg_price                      float64 \n",
      " 22  spending_flag                  object  \n",
      " 23  median_days_since_prior_order  float64 \n",
      " 24  order_frequency_flag           object  \n",
      "dtypes: category(1), float64(4), int64(12), object(8)\n",
      "memory usage: 6.1+ GB\n"
     ]
    }
   ],
   "source": [
    "ords_prods_agg.info()"
   ]
  },
  {
   "cell_type": "markdown",
   "id": "2e66a54d",
   "metadata": {},
   "source": [
    "No Need to change variable types"
   ]
  },
  {
   "cell_type": "code",
   "execution_count": 15,
   "id": "2433f96e",
   "metadata": {},
   "outputs": [],
   "source": [
    "#Changing user id to string\n",
    "ords_prods_agg['user_id'] = ords_prods_agg['user_id'].astype('str')"
   ]
  },
  {
   "cell_type": "code",
   "execution_count": 16,
   "id": "0d55a781",
   "metadata": {},
   "outputs": [],
   "source": [
    "## downcasting loop\n",
    "for column in ords_prods_agg:\n",
    " if ords_prods_agg[column].dtype == 'float32': ords_prods_agg[column]=pd.to_numeric(ords_prods_agg[column], downcast='float') \n",
    "if ords_prods_agg[column].dtype == 'int64': ords_prods_agg[column]=pd.to_numeric(all_data[column], downcast='integer') "
   ]
  },
  {
   "cell_type": "code",
   "execution_count": 17,
   "id": "04310759",
   "metadata": {},
   "outputs": [
    {
     "name": "stdout",
     "output_type": "stream",
     "text": [
      "<class 'pandas.core.frame.DataFrame'>\n",
      "Int64Index: 32404859 entries, 0 to 32404858\n",
      "Data columns (total 25 columns):\n",
      " #   Column                         Dtype   \n",
      "---  ------                         -----   \n",
      " 0   Unnamed: 0.1                   int64   \n",
      " 1   order_id                       int64   \n",
      " 2   user_id                        object  \n",
      " 3   order_number                   int64   \n",
      " 4   orders_day_of_week             int64   \n",
      " 5   orders_hod                     int64   \n",
      " 6   days_since_prior_order         float64 \n",
      " 7   product_id                     int64   \n",
      " 8   add_to_cart_order              int64   \n",
      " 9   reordered                      int64   \n",
      " 10  product_name                   object  \n",
      " 11  aisle_id                       int64   \n",
      " 12  department_id                  int64   \n",
      " 13  prices                         float64 \n",
      " 14  _merge                         category\n",
      " 15  price_range_loc                object  \n",
      " 16  busiest_day                    object  \n",
      " 17  busiest_days                   object  \n",
      " 18  busiest_period_of_day          object  \n",
      " 19  max_order                      int64   \n",
      " 20  loyalty_flag                   object  \n",
      " 21  avg_price                      float64 \n",
      " 22  spending_flag                  object  \n",
      " 23  median_days_since_prior_order  float64 \n",
      " 24  order_frequency_flag           object  \n",
      "dtypes: category(1), float64(4), int64(11), object(9)\n",
      "memory usage: 6.1+ GB\n"
     ]
    }
   ],
   "source": [
    "ords_prods_agg.info()"
   ]
  },
  {
   "cell_type": "markdown",
   "id": "79ecb8de",
   "metadata": {},
   "source": [
    "# Step 5"
   ]
  },
  {
   "cell_type": "code",
   "execution_count": 18,
   "id": "bbc3c6f4",
   "metadata": {},
   "outputs": [
    {
     "data": {
      "text/plain": [
       "user_id                 0\n",
       "gender                  0\n",
       "state                   0\n",
       "age                     0\n",
       "date_joined             0\n",
       "number_of_dependants    0\n",
       "family_status           0\n",
       "income                  0\n",
       "dtype: int64"
      ]
     },
     "execution_count": 18,
     "metadata": {},
     "output_type": "execute_result"
    }
   ],
   "source": [
    "# Checking for any missing values\n",
    "df_cust.isnull().sum()"
   ]
  },
  {
   "cell_type": "markdown",
   "id": "6a3fdc1c",
   "metadata": {},
   "source": [
    "As you can see above there are no missing values"
   ]
  },
  {
   "cell_type": "code",
   "execution_count": 19,
   "id": "12b5560b",
   "metadata": {},
   "outputs": [],
   "source": [
    "# Checking for duplicates\n",
    "df_dups = df_cust[df_cust.duplicated()]"
   ]
  },
  {
   "cell_type": "code",
   "execution_count": 20,
   "id": "aa0c4a79",
   "metadata": {},
   "outputs": [
    {
     "data": {
      "text/html": [
       "<div>\n",
       "<style scoped>\n",
       "    .dataframe tbody tr th:only-of-type {\n",
       "        vertical-align: middle;\n",
       "    }\n",
       "\n",
       "    .dataframe tbody tr th {\n",
       "        vertical-align: top;\n",
       "    }\n",
       "\n",
       "    .dataframe thead th {\n",
       "        text-align: right;\n",
       "    }\n",
       "</style>\n",
       "<table border=\"1\" class=\"dataframe\">\n",
       "  <thead>\n",
       "    <tr style=\"text-align: right;\">\n",
       "      <th></th>\n",
       "      <th>user_id</th>\n",
       "      <th>gender</th>\n",
       "      <th>state</th>\n",
       "      <th>age</th>\n",
       "      <th>date_joined</th>\n",
       "      <th>number_of_dependants</th>\n",
       "      <th>family_status</th>\n",
       "      <th>income</th>\n",
       "    </tr>\n",
       "  </thead>\n",
       "  <tbody>\n",
       "  </tbody>\n",
       "</table>\n",
       "</div>"
      ],
      "text/plain": [
       "Empty DataFrame\n",
       "Columns: [user_id, gender, state, age, date_joined, number_of_dependants, family_status, income]\n",
       "Index: []"
      ]
     },
     "execution_count": 20,
     "metadata": {},
     "output_type": "execute_result"
    }
   ],
   "source": [
    "df_dups"
   ]
  },
  {
   "cell_type": "markdown",
   "id": "ce3885b0",
   "metadata": {},
   "source": [
    "There are no duplicates"
   ]
  },
  {
   "cell_type": "code",
   "execution_count": 21,
   "id": "63266d44",
   "metadata": {},
   "outputs": [],
   "source": [
    "# Checking for mixed data\n",
    "for col in df_cust.columns.tolist():\n",
    "  weird = (df_cust[[col]].applymap(type) != df_cust[[col]].iloc[0].apply(type)).any(axis = 1)\n",
    "  if len (df_cust[weird]) > 0:\n",
    "    print (col)"
   ]
  },
  {
   "cell_type": "markdown",
   "id": "a737bb28",
   "metadata": {},
   "source": [
    "There is no mixed data"
   ]
  },
  {
   "cell_type": "markdown",
   "id": "600b1f5a",
   "metadata": {},
   "source": [
    "# Step 6"
   ]
  },
  {
   "cell_type": "code",
   "execution_count": 22,
   "id": "288fdfa5",
   "metadata": {},
   "outputs": [
    {
     "data": {
      "text/plain": [
       "(206209, 8)"
      ]
     },
     "execution_count": 22,
     "metadata": {},
     "output_type": "execute_result"
    }
   ],
   "source": [
    "# Checking shape of df\n",
    "df_cust.shape"
   ]
  },
  {
   "cell_type": "code",
   "execution_count": 23,
   "id": "787c6a6c",
   "metadata": {},
   "outputs": [
    {
     "data": {
      "text/plain": [
       "(32404859, 25)"
      ]
     },
     "execution_count": 23,
     "metadata": {},
     "output_type": "execute_result"
    }
   ],
   "source": [
    "ords_prods_agg.shape"
   ]
  },
  {
   "cell_type": "code",
   "execution_count": 24,
   "id": "b0b2813e",
   "metadata": {},
   "outputs": [
    {
     "data": {
      "text/html": [
       "<div>\n",
       "<style scoped>\n",
       "    .dataframe tbody tr th:only-of-type {\n",
       "        vertical-align: middle;\n",
       "    }\n",
       "\n",
       "    .dataframe tbody tr th {\n",
       "        vertical-align: top;\n",
       "    }\n",
       "\n",
       "    .dataframe thead th {\n",
       "        text-align: right;\n",
       "    }\n",
       "</style>\n",
       "<table border=\"1\" class=\"dataframe\">\n",
       "  <thead>\n",
       "    <tr style=\"text-align: right;\">\n",
       "      <th></th>\n",
       "      <th>Unnamed: 0.1</th>\n",
       "      <th>order_id</th>\n",
       "      <th>user_id</th>\n",
       "      <th>order_number</th>\n",
       "      <th>orders_day_of_week</th>\n",
       "      <th>orders_hod</th>\n",
       "      <th>days_since_prior_order</th>\n",
       "      <th>product_id</th>\n",
       "      <th>add_to_cart_order</th>\n",
       "      <th>reordered</th>\n",
       "      <th>...</th>\n",
       "      <th>price_range_loc</th>\n",
       "      <th>busiest_day</th>\n",
       "      <th>busiest_days</th>\n",
       "      <th>busiest_period_of_day</th>\n",
       "      <th>max_order</th>\n",
       "      <th>loyalty_flag</th>\n",
       "      <th>avg_price</th>\n",
       "      <th>spending_flag</th>\n",
       "      <th>median_days_since_prior_order</th>\n",
       "      <th>order_frequency_flag</th>\n",
       "    </tr>\n",
       "  </thead>\n",
       "  <tbody>\n",
       "    <tr>\n",
       "      <th>0</th>\n",
       "      <td>0</td>\n",
       "      <td>2539329</td>\n",
       "      <td>1</td>\n",
       "      <td>1</td>\n",
       "      <td>2</td>\n",
       "      <td>8</td>\n",
       "      <td>NaN</td>\n",
       "      <td>196</td>\n",
       "      <td>1</td>\n",
       "      <td>0</td>\n",
       "      <td>...</td>\n",
       "      <td>Mid-range product</td>\n",
       "      <td>Regularly busy</td>\n",
       "      <td>Regularly busy</td>\n",
       "      <td>Average orders</td>\n",
       "      <td>10</td>\n",
       "      <td>New customer</td>\n",
       "      <td>6.367797</td>\n",
       "      <td>Low spender</td>\n",
       "      <td>20.5</td>\n",
       "      <td>Non-frequent customer</td>\n",
       "    </tr>\n",
       "    <tr>\n",
       "      <th>1</th>\n",
       "      <td>1</td>\n",
       "      <td>2398795</td>\n",
       "      <td>1</td>\n",
       "      <td>2</td>\n",
       "      <td>3</td>\n",
       "      <td>7</td>\n",
       "      <td>15.0</td>\n",
       "      <td>196</td>\n",
       "      <td>1</td>\n",
       "      <td>1</td>\n",
       "      <td>...</td>\n",
       "      <td>Mid-range product</td>\n",
       "      <td>Regularly busy</td>\n",
       "      <td>Least busy</td>\n",
       "      <td>Average orders</td>\n",
       "      <td>10</td>\n",
       "      <td>New customer</td>\n",
       "      <td>6.367797</td>\n",
       "      <td>Low spender</td>\n",
       "      <td>20.5</td>\n",
       "      <td>Non-frequent customer</td>\n",
       "    </tr>\n",
       "    <tr>\n",
       "      <th>2</th>\n",
       "      <td>2</td>\n",
       "      <td>473747</td>\n",
       "      <td>1</td>\n",
       "      <td>3</td>\n",
       "      <td>3</td>\n",
       "      <td>12</td>\n",
       "      <td>21.0</td>\n",
       "      <td>196</td>\n",
       "      <td>1</td>\n",
       "      <td>1</td>\n",
       "      <td>...</td>\n",
       "      <td>Mid-range product</td>\n",
       "      <td>Regularly busy</td>\n",
       "      <td>Least busy</td>\n",
       "      <td>Most orders</td>\n",
       "      <td>10</td>\n",
       "      <td>New customer</td>\n",
       "      <td>6.367797</td>\n",
       "      <td>Low spender</td>\n",
       "      <td>20.5</td>\n",
       "      <td>Non-frequent customer</td>\n",
       "    </tr>\n",
       "    <tr>\n",
       "      <th>3</th>\n",
       "      <td>3</td>\n",
       "      <td>2254736</td>\n",
       "      <td>1</td>\n",
       "      <td>4</td>\n",
       "      <td>4</td>\n",
       "      <td>7</td>\n",
       "      <td>29.0</td>\n",
       "      <td>196</td>\n",
       "      <td>1</td>\n",
       "      <td>1</td>\n",
       "      <td>...</td>\n",
       "      <td>Mid-range product</td>\n",
       "      <td>Least busy</td>\n",
       "      <td>Least busy</td>\n",
       "      <td>Average orders</td>\n",
       "      <td>10</td>\n",
       "      <td>New customer</td>\n",
       "      <td>6.367797</td>\n",
       "      <td>Low spender</td>\n",
       "      <td>20.5</td>\n",
       "      <td>Non-frequent customer</td>\n",
       "    </tr>\n",
       "    <tr>\n",
       "      <th>4</th>\n",
       "      <td>4</td>\n",
       "      <td>431534</td>\n",
       "      <td>1</td>\n",
       "      <td>5</td>\n",
       "      <td>4</td>\n",
       "      <td>15</td>\n",
       "      <td>28.0</td>\n",
       "      <td>196</td>\n",
       "      <td>1</td>\n",
       "      <td>1</td>\n",
       "      <td>...</td>\n",
       "      <td>Mid-range product</td>\n",
       "      <td>Least busy</td>\n",
       "      <td>Least busy</td>\n",
       "      <td>Most orders</td>\n",
       "      <td>10</td>\n",
       "      <td>New customer</td>\n",
       "      <td>6.367797</td>\n",
       "      <td>Low spender</td>\n",
       "      <td>20.5</td>\n",
       "      <td>Non-frequent customer</td>\n",
       "    </tr>\n",
       "  </tbody>\n",
       "</table>\n",
       "<p>5 rows × 25 columns</p>\n",
       "</div>"
      ],
      "text/plain": [
       "   Unnamed: 0.1  order_id user_id  order_number  orders_day_of_week  \\\n",
       "0             0   2539329       1             1                   2   \n",
       "1             1   2398795       1             2                   3   \n",
       "2             2    473747       1             3                   3   \n",
       "3             3   2254736       1             4                   4   \n",
       "4             4    431534       1             5                   4   \n",
       "\n",
       "   orders_hod  days_since_prior_order  product_id  add_to_cart_order  \\\n",
       "0           8                     NaN         196                  1   \n",
       "1           7                    15.0         196                  1   \n",
       "2          12                    21.0         196                  1   \n",
       "3           7                    29.0         196                  1   \n",
       "4          15                    28.0         196                  1   \n",
       "\n",
       "   reordered  ...    price_range_loc     busiest_day    busiest_days  \\\n",
       "0          0  ...  Mid-range product  Regularly busy  Regularly busy   \n",
       "1          1  ...  Mid-range product  Regularly busy      Least busy   \n",
       "2          1  ...  Mid-range product  Regularly busy      Least busy   \n",
       "3          1  ...  Mid-range product      Least busy      Least busy   \n",
       "4          1  ...  Mid-range product      Least busy      Least busy   \n",
       "\n",
       "   busiest_period_of_day max_order  loyalty_flag avg_price spending_flag  \\\n",
       "0         Average orders        10  New customer  6.367797   Low spender   \n",
       "1         Average orders        10  New customer  6.367797   Low spender   \n",
       "2            Most orders        10  New customer  6.367797   Low spender   \n",
       "3         Average orders        10  New customer  6.367797   Low spender   \n",
       "4            Most orders        10  New customer  6.367797   Low spender   \n",
       "\n",
       "  median_days_since_prior_order   order_frequency_flag  \n",
       "0                          20.5  Non-frequent customer  \n",
       "1                          20.5  Non-frequent customer  \n",
       "2                          20.5  Non-frequent customer  \n",
       "3                          20.5  Non-frequent customer  \n",
       "4                          20.5  Non-frequent customer  \n",
       "\n",
       "[5 rows x 25 columns]"
      ]
     },
     "execution_count": 24,
     "metadata": {},
     "output_type": "execute_result"
    }
   ],
   "source": [
    "ords_prods_agg.head()"
   ]
  },
  {
   "cell_type": "code",
   "execution_count": 25,
   "id": "6f2331d7",
   "metadata": {},
   "outputs": [],
   "source": [
    "# Dropping unnamed column\n",
    "ords_prods_agg = ords_prods_agg.drop(columns = ['Unnamed: 0.1'] )"
   ]
  },
  {
   "cell_type": "code",
   "execution_count": 26,
   "id": "b00bf53a",
   "metadata": {},
   "outputs": [],
   "source": [
    "ords_prods_agg = ords_prods_agg.drop(columns = ['_merge'])"
   ]
  },
  {
   "cell_type": "code",
   "execution_count": 27,
   "id": "e86ca884",
   "metadata": {},
   "outputs": [
    {
     "data": {
      "text/plain": [
       "(32404859, 23)"
      ]
     },
     "execution_count": 27,
     "metadata": {},
     "output_type": "execute_result"
    }
   ],
   "source": [
    "ords_prods_agg.shape"
   ]
  },
  {
   "cell_type": "code",
   "execution_count": 28,
   "id": "140c6512",
   "metadata": {},
   "outputs": [
    {
     "data": {
      "text/html": [
       "<div>\n",
       "<style scoped>\n",
       "    .dataframe tbody tr th:only-of-type {\n",
       "        vertical-align: middle;\n",
       "    }\n",
       "\n",
       "    .dataframe tbody tr th {\n",
       "        vertical-align: top;\n",
       "    }\n",
       "\n",
       "    .dataframe thead th {\n",
       "        text-align: right;\n",
       "    }\n",
       "</style>\n",
       "<table border=\"1\" class=\"dataframe\">\n",
       "  <thead>\n",
       "    <tr style=\"text-align: right;\">\n",
       "      <th></th>\n",
       "      <th>order_id</th>\n",
       "      <th>user_id</th>\n",
       "      <th>order_number</th>\n",
       "      <th>orders_day_of_week</th>\n",
       "      <th>orders_hod</th>\n",
       "      <th>days_since_prior_order</th>\n",
       "      <th>product_id</th>\n",
       "      <th>add_to_cart_order</th>\n",
       "      <th>reordered</th>\n",
       "      <th>product_name</th>\n",
       "      <th>...</th>\n",
       "      <th>price_range_loc</th>\n",
       "      <th>busiest_day</th>\n",
       "      <th>busiest_days</th>\n",
       "      <th>busiest_period_of_day</th>\n",
       "      <th>max_order</th>\n",
       "      <th>loyalty_flag</th>\n",
       "      <th>avg_price</th>\n",
       "      <th>spending_flag</th>\n",
       "      <th>median_days_since_prior_order</th>\n",
       "      <th>order_frequency_flag</th>\n",
       "    </tr>\n",
       "  </thead>\n",
       "  <tbody>\n",
       "    <tr>\n",
       "      <th>0</th>\n",
       "      <td>2539329</td>\n",
       "      <td>1</td>\n",
       "      <td>1</td>\n",
       "      <td>2</td>\n",
       "      <td>8</td>\n",
       "      <td>NaN</td>\n",
       "      <td>196</td>\n",
       "      <td>1</td>\n",
       "      <td>0</td>\n",
       "      <td>Soda</td>\n",
       "      <td>...</td>\n",
       "      <td>Mid-range product</td>\n",
       "      <td>Regularly busy</td>\n",
       "      <td>Regularly busy</td>\n",
       "      <td>Average orders</td>\n",
       "      <td>10</td>\n",
       "      <td>New customer</td>\n",
       "      <td>6.367797</td>\n",
       "      <td>Low spender</td>\n",
       "      <td>20.5</td>\n",
       "      <td>Non-frequent customer</td>\n",
       "    </tr>\n",
       "    <tr>\n",
       "      <th>1</th>\n",
       "      <td>2398795</td>\n",
       "      <td>1</td>\n",
       "      <td>2</td>\n",
       "      <td>3</td>\n",
       "      <td>7</td>\n",
       "      <td>15.0</td>\n",
       "      <td>196</td>\n",
       "      <td>1</td>\n",
       "      <td>1</td>\n",
       "      <td>Soda</td>\n",
       "      <td>...</td>\n",
       "      <td>Mid-range product</td>\n",
       "      <td>Regularly busy</td>\n",
       "      <td>Least busy</td>\n",
       "      <td>Average orders</td>\n",
       "      <td>10</td>\n",
       "      <td>New customer</td>\n",
       "      <td>6.367797</td>\n",
       "      <td>Low spender</td>\n",
       "      <td>20.5</td>\n",
       "      <td>Non-frequent customer</td>\n",
       "    </tr>\n",
       "    <tr>\n",
       "      <th>2</th>\n",
       "      <td>473747</td>\n",
       "      <td>1</td>\n",
       "      <td>3</td>\n",
       "      <td>3</td>\n",
       "      <td>12</td>\n",
       "      <td>21.0</td>\n",
       "      <td>196</td>\n",
       "      <td>1</td>\n",
       "      <td>1</td>\n",
       "      <td>Soda</td>\n",
       "      <td>...</td>\n",
       "      <td>Mid-range product</td>\n",
       "      <td>Regularly busy</td>\n",
       "      <td>Least busy</td>\n",
       "      <td>Most orders</td>\n",
       "      <td>10</td>\n",
       "      <td>New customer</td>\n",
       "      <td>6.367797</td>\n",
       "      <td>Low spender</td>\n",
       "      <td>20.5</td>\n",
       "      <td>Non-frequent customer</td>\n",
       "    </tr>\n",
       "    <tr>\n",
       "      <th>3</th>\n",
       "      <td>2254736</td>\n",
       "      <td>1</td>\n",
       "      <td>4</td>\n",
       "      <td>4</td>\n",
       "      <td>7</td>\n",
       "      <td>29.0</td>\n",
       "      <td>196</td>\n",
       "      <td>1</td>\n",
       "      <td>1</td>\n",
       "      <td>Soda</td>\n",
       "      <td>...</td>\n",
       "      <td>Mid-range product</td>\n",
       "      <td>Least busy</td>\n",
       "      <td>Least busy</td>\n",
       "      <td>Average orders</td>\n",
       "      <td>10</td>\n",
       "      <td>New customer</td>\n",
       "      <td>6.367797</td>\n",
       "      <td>Low spender</td>\n",
       "      <td>20.5</td>\n",
       "      <td>Non-frequent customer</td>\n",
       "    </tr>\n",
       "    <tr>\n",
       "      <th>4</th>\n",
       "      <td>431534</td>\n",
       "      <td>1</td>\n",
       "      <td>5</td>\n",
       "      <td>4</td>\n",
       "      <td>15</td>\n",
       "      <td>28.0</td>\n",
       "      <td>196</td>\n",
       "      <td>1</td>\n",
       "      <td>1</td>\n",
       "      <td>Soda</td>\n",
       "      <td>...</td>\n",
       "      <td>Mid-range product</td>\n",
       "      <td>Least busy</td>\n",
       "      <td>Least busy</td>\n",
       "      <td>Most orders</td>\n",
       "      <td>10</td>\n",
       "      <td>New customer</td>\n",
       "      <td>6.367797</td>\n",
       "      <td>Low spender</td>\n",
       "      <td>20.5</td>\n",
       "      <td>Non-frequent customer</td>\n",
       "    </tr>\n",
       "  </tbody>\n",
       "</table>\n",
       "<p>5 rows × 23 columns</p>\n",
       "</div>"
      ],
      "text/plain": [
       "   order_id user_id  order_number  orders_day_of_week  orders_hod  \\\n",
       "0   2539329       1             1                   2           8   \n",
       "1   2398795       1             2                   3           7   \n",
       "2    473747       1             3                   3          12   \n",
       "3   2254736       1             4                   4           7   \n",
       "4    431534       1             5                   4          15   \n",
       "\n",
       "   days_since_prior_order  product_id  add_to_cart_order  reordered  \\\n",
       "0                     NaN         196                  1          0   \n",
       "1                    15.0         196                  1          1   \n",
       "2                    21.0         196                  1          1   \n",
       "3                    29.0         196                  1          1   \n",
       "4                    28.0         196                  1          1   \n",
       "\n",
       "  product_name  ...    price_range_loc     busiest_day    busiest_days  \\\n",
       "0         Soda  ...  Mid-range product  Regularly busy  Regularly busy   \n",
       "1         Soda  ...  Mid-range product  Regularly busy      Least busy   \n",
       "2         Soda  ...  Mid-range product  Regularly busy      Least busy   \n",
       "3         Soda  ...  Mid-range product      Least busy      Least busy   \n",
       "4         Soda  ...  Mid-range product      Least busy      Least busy   \n",
       "\n",
       "  busiest_period_of_day max_order  loyalty_flag avg_price  spending_flag  \\\n",
       "0        Average orders        10  New customer  6.367797    Low spender   \n",
       "1        Average orders        10  New customer  6.367797    Low spender   \n",
       "2           Most orders        10  New customer  6.367797    Low spender   \n",
       "3        Average orders        10  New customer  6.367797    Low spender   \n",
       "4           Most orders        10  New customer  6.367797    Low spender   \n",
       "\n",
       "  median_days_since_prior_order   order_frequency_flag  \n",
       "0                          20.5  Non-frequent customer  \n",
       "1                          20.5  Non-frequent customer  \n",
       "2                          20.5  Non-frequent customer  \n",
       "3                          20.5  Non-frequent customer  \n",
       "4                          20.5  Non-frequent customer  \n",
       "\n",
       "[5 rows x 23 columns]"
      ]
     },
     "execution_count": 28,
     "metadata": {},
     "output_type": "execute_result"
    }
   ],
   "source": [
    "ords_prods_agg.head()"
   ]
  },
  {
   "cell_type": "code",
   "execution_count": 29,
   "id": "0ceb4218",
   "metadata": {},
   "outputs": [
    {
     "data": {
      "text/plain": [
       "99999.0"
      ]
     },
     "execution_count": 29,
     "metadata": {},
     "output_type": "execute_result"
    }
   ],
   "source": [
    "# Checking max price\n",
    "ords_prods_agg['prices'].max()"
   ]
  },
  {
   "cell_type": "markdown",
   "id": "7a0d5c15",
   "metadata": {},
   "source": [
    "Since this is not possible, I will be replaces all values over $100 with Nan"
   ]
  },
  {
   "cell_type": "code",
   "execution_count": 30,
   "id": "11e10297",
   "metadata": {},
   "outputs": [],
   "source": [
    "ords_prods_agg.loc[ords_prods_agg['prices'] >100, 'prices'] = np.nan"
   ]
  },
  {
   "cell_type": "code",
   "execution_count": 31,
   "id": "314dae37",
   "metadata": {},
   "outputs": [
    {
     "data": {
      "text/plain": [
       "25.0"
      ]
     },
     "execution_count": 31,
     "metadata": {},
     "output_type": "execute_result"
    }
   ],
   "source": [
    "ords_prods_agg['prices'].max()"
   ]
  },
  {
   "cell_type": "code",
   "execution_count": 32,
   "id": "ba00aa42",
   "metadata": {},
   "outputs": [],
   "source": [
    "#Merging Dataframes\n",
    "df_comb = ords_prods_agg.merge(df_cust, on = 'user_id') "
   ]
  },
  {
   "cell_type": "code",
   "execution_count": 34,
   "id": "b72d449f",
   "metadata": {},
   "outputs": [
    {
     "data": {
      "text/plain": [
       "(32404859, 30)"
      ]
     },
     "execution_count": 34,
     "metadata": {},
     "output_type": "execute_result"
    }
   ],
   "source": [
    "df_comb.shape"
   ]
  },
  {
   "cell_type": "code",
   "execution_count": 35,
   "id": "e90fe262",
   "metadata": {},
   "outputs": [
    {
     "data": {
      "text/html": [
       "<div>\n",
       "<style scoped>\n",
       "    .dataframe tbody tr th:only-of-type {\n",
       "        vertical-align: middle;\n",
       "    }\n",
       "\n",
       "    .dataframe tbody tr th {\n",
       "        vertical-align: top;\n",
       "    }\n",
       "\n",
       "    .dataframe thead th {\n",
       "        text-align: right;\n",
       "    }\n",
       "</style>\n",
       "<table border=\"1\" class=\"dataframe\">\n",
       "  <thead>\n",
       "    <tr style=\"text-align: right;\">\n",
       "      <th></th>\n",
       "      <th>order_id</th>\n",
       "      <th>user_id</th>\n",
       "      <th>order_number</th>\n",
       "      <th>orders_day_of_week</th>\n",
       "      <th>orders_hod</th>\n",
       "      <th>days_since_prior_order</th>\n",
       "      <th>product_id</th>\n",
       "      <th>add_to_cart_order</th>\n",
       "      <th>reordered</th>\n",
       "      <th>product_name</th>\n",
       "      <th>...</th>\n",
       "      <th>spending_flag</th>\n",
       "      <th>median_days_since_prior_order</th>\n",
       "      <th>order_frequency_flag</th>\n",
       "      <th>gender</th>\n",
       "      <th>state</th>\n",
       "      <th>age</th>\n",
       "      <th>date_joined</th>\n",
       "      <th>number_of_dependants</th>\n",
       "      <th>family_status</th>\n",
       "      <th>income</th>\n",
       "    </tr>\n",
       "  </thead>\n",
       "  <tbody>\n",
       "    <tr>\n",
       "      <th>0</th>\n",
       "      <td>2539329</td>\n",
       "      <td>1</td>\n",
       "      <td>1</td>\n",
       "      <td>2</td>\n",
       "      <td>8</td>\n",
       "      <td>NaN</td>\n",
       "      <td>196</td>\n",
       "      <td>1</td>\n",
       "      <td>0</td>\n",
       "      <td>Soda</td>\n",
       "      <td>...</td>\n",
       "      <td>Low spender</td>\n",
       "      <td>20.5</td>\n",
       "      <td>Non-frequent customer</td>\n",
       "      <td>Female</td>\n",
       "      <td>Alabama</td>\n",
       "      <td>31</td>\n",
       "      <td>2/17/2019</td>\n",
       "      <td>3</td>\n",
       "      <td>married</td>\n",
       "      <td>40423</td>\n",
       "    </tr>\n",
       "    <tr>\n",
       "      <th>1</th>\n",
       "      <td>2398795</td>\n",
       "      <td>1</td>\n",
       "      <td>2</td>\n",
       "      <td>3</td>\n",
       "      <td>7</td>\n",
       "      <td>15.0</td>\n",
       "      <td>196</td>\n",
       "      <td>1</td>\n",
       "      <td>1</td>\n",
       "      <td>Soda</td>\n",
       "      <td>...</td>\n",
       "      <td>Low spender</td>\n",
       "      <td>20.5</td>\n",
       "      <td>Non-frequent customer</td>\n",
       "      <td>Female</td>\n",
       "      <td>Alabama</td>\n",
       "      <td>31</td>\n",
       "      <td>2/17/2019</td>\n",
       "      <td>3</td>\n",
       "      <td>married</td>\n",
       "      <td>40423</td>\n",
       "    </tr>\n",
       "    <tr>\n",
       "      <th>2</th>\n",
       "      <td>473747</td>\n",
       "      <td>1</td>\n",
       "      <td>3</td>\n",
       "      <td>3</td>\n",
       "      <td>12</td>\n",
       "      <td>21.0</td>\n",
       "      <td>196</td>\n",
       "      <td>1</td>\n",
       "      <td>1</td>\n",
       "      <td>Soda</td>\n",
       "      <td>...</td>\n",
       "      <td>Low spender</td>\n",
       "      <td>20.5</td>\n",
       "      <td>Non-frequent customer</td>\n",
       "      <td>Female</td>\n",
       "      <td>Alabama</td>\n",
       "      <td>31</td>\n",
       "      <td>2/17/2019</td>\n",
       "      <td>3</td>\n",
       "      <td>married</td>\n",
       "      <td>40423</td>\n",
       "    </tr>\n",
       "    <tr>\n",
       "      <th>3</th>\n",
       "      <td>2254736</td>\n",
       "      <td>1</td>\n",
       "      <td>4</td>\n",
       "      <td>4</td>\n",
       "      <td>7</td>\n",
       "      <td>29.0</td>\n",
       "      <td>196</td>\n",
       "      <td>1</td>\n",
       "      <td>1</td>\n",
       "      <td>Soda</td>\n",
       "      <td>...</td>\n",
       "      <td>Low spender</td>\n",
       "      <td>20.5</td>\n",
       "      <td>Non-frequent customer</td>\n",
       "      <td>Female</td>\n",
       "      <td>Alabama</td>\n",
       "      <td>31</td>\n",
       "      <td>2/17/2019</td>\n",
       "      <td>3</td>\n",
       "      <td>married</td>\n",
       "      <td>40423</td>\n",
       "    </tr>\n",
       "    <tr>\n",
       "      <th>4</th>\n",
       "      <td>431534</td>\n",
       "      <td>1</td>\n",
       "      <td>5</td>\n",
       "      <td>4</td>\n",
       "      <td>15</td>\n",
       "      <td>28.0</td>\n",
       "      <td>196</td>\n",
       "      <td>1</td>\n",
       "      <td>1</td>\n",
       "      <td>Soda</td>\n",
       "      <td>...</td>\n",
       "      <td>Low spender</td>\n",
       "      <td>20.5</td>\n",
       "      <td>Non-frequent customer</td>\n",
       "      <td>Female</td>\n",
       "      <td>Alabama</td>\n",
       "      <td>31</td>\n",
       "      <td>2/17/2019</td>\n",
       "      <td>3</td>\n",
       "      <td>married</td>\n",
       "      <td>40423</td>\n",
       "    </tr>\n",
       "  </tbody>\n",
       "</table>\n",
       "<p>5 rows × 30 columns</p>\n",
       "</div>"
      ],
      "text/plain": [
       "   order_id user_id  order_number  orders_day_of_week  orders_hod  \\\n",
       "0   2539329       1             1                   2           8   \n",
       "1   2398795       1             2                   3           7   \n",
       "2    473747       1             3                   3          12   \n",
       "3   2254736       1             4                   4           7   \n",
       "4    431534       1             5                   4          15   \n",
       "\n",
       "   days_since_prior_order  product_id  add_to_cart_order  reordered  \\\n",
       "0                     NaN         196                  1          0   \n",
       "1                    15.0         196                  1          1   \n",
       "2                    21.0         196                  1          1   \n",
       "3                    29.0         196                  1          1   \n",
       "4                    28.0         196                  1          1   \n",
       "\n",
       "  product_name  ...  spending_flag  median_days_since_prior_order  \\\n",
       "0         Soda  ...    Low spender                           20.5   \n",
       "1         Soda  ...    Low spender                           20.5   \n",
       "2         Soda  ...    Low spender                           20.5   \n",
       "3         Soda  ...    Low spender                           20.5   \n",
       "4         Soda  ...    Low spender                           20.5   \n",
       "\n",
       "    order_frequency_flag  gender    state age date_joined  \\\n",
       "0  Non-frequent customer  Female  Alabama  31   2/17/2019   \n",
       "1  Non-frequent customer  Female  Alabama  31   2/17/2019   \n",
       "2  Non-frequent customer  Female  Alabama  31   2/17/2019   \n",
       "3  Non-frequent customer  Female  Alabama  31   2/17/2019   \n",
       "4  Non-frequent customer  Female  Alabama  31   2/17/2019   \n",
       "\n",
       "   number_of_dependants family_status  income  \n",
       "0                     3       married   40423  \n",
       "1                     3       married   40423  \n",
       "2                     3       married   40423  \n",
       "3                     3       married   40423  \n",
       "4                     3       married   40423  \n",
       "\n",
       "[5 rows x 30 columns]"
      ]
     },
     "execution_count": 35,
     "metadata": {},
     "output_type": "execute_result"
    }
   ],
   "source": [
    "df_comb.head()"
   ]
  },
  {
   "cell_type": "code",
   "execution_count": 36,
   "id": "e21d81fb",
   "metadata": {},
   "outputs": [
    {
     "name": "stdout",
     "output_type": "stream",
     "text": [
      "<class 'pandas.core.frame.DataFrame'>\n",
      "Int64Index: 32404859 entries, 0 to 32404858\n",
      "Data columns (total 30 columns):\n",
      " #   Column                         Dtype  \n",
      "---  ------                         -----  \n",
      " 0   order_id                       int64  \n",
      " 1   user_id                        object \n",
      " 2   order_number                   int64  \n",
      " 3   orders_day_of_week             int64  \n",
      " 4   orders_hod                     int64  \n",
      " 5   days_since_prior_order         float64\n",
      " 6   product_id                     int64  \n",
      " 7   add_to_cart_order              int64  \n",
      " 8   reordered                      int64  \n",
      " 9   product_name                   object \n",
      " 10  aisle_id                       int64  \n",
      " 11  department_id                  int64  \n",
      " 12  prices                         float64\n",
      " 13  price_range_loc                object \n",
      " 14  busiest_day                    object \n",
      " 15  busiest_days                   object \n",
      " 16  busiest_period_of_day          object \n",
      " 17  max_order                      int64  \n",
      " 18  loyalty_flag                   object \n",
      " 19  avg_price                      float64\n",
      " 20  spending_flag                  object \n",
      " 21  median_days_since_prior_order  float64\n",
      " 22  order_frequency_flag           object \n",
      " 23  gender                         object \n",
      " 24  state                          object \n",
      " 25  age                            int64  \n",
      " 26  date_joined                    object \n",
      " 27  number_of_dependants           int64  \n",
      " 28  family_status                  object \n",
      " 29  income                         int64  \n",
      "dtypes: float64(4), int64(13), object(13)\n",
      "memory usage: 7.5+ GB\n"
     ]
    }
   ],
   "source": [
    "df_comb.info()"
   ]
  },
  {
   "cell_type": "markdown",
   "id": "97db4b7b",
   "metadata": {},
   "source": [
    "# Exporting Dataframes"
   ]
  },
  {
   "cell_type": "code",
   "execution_count": 37,
   "id": "79662de3",
   "metadata": {},
   "outputs": [],
   "source": [
    "df_comb.to_pickle(os.path.join(path, '02. Data','Prepared Data', 'orders_products_all.pkl'))"
   ]
  },
  {
   "cell_type": "code",
   "execution_count": null,
   "id": "4c40a3de",
   "metadata": {},
   "outputs": [],
   "source": []
  }
 ],
 "metadata": {
  "kernelspec": {
   "display_name": "Python 3 (ipykernel)",
   "language": "python",
   "name": "python3"
  },
  "language_info": {
   "codemirror_mode": {
    "name": "ipython",
    "version": 3
   },
   "file_extension": ".py",
   "mimetype": "text/x-python",
   "name": "python",
   "nbconvert_exporter": "python",
   "pygments_lexer": "ipython3",
   "version": "3.10.9"
  }
 },
 "nbformat": 4,
 "nbformat_minor": 5
}
